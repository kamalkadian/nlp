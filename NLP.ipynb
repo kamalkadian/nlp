{
 "cells": [
  {
   "cell_type": "code",
   "execution_count": 2,
   "id": "b5a706ec",
   "metadata": {},
   "outputs": [],
   "source": [
    "import pandas as pd\n",
    "import re\n",
    "import nltk\n"
   ]
  },
  {
   "cell_type": "code",
   "execution_count": 5,
   "id": "f4f80d42",
   "metadata": {},
   "outputs": [],
   "source": [
    "import json\n",
    "with open('tweets.json') as jfile:\n",
    "    d = json.load(jfile)"
   ]
  },
  {
   "cell_type": "code",
   "execution_count": 6,
   "id": "63da9ba7",
   "metadata": {},
   "outputs": [
    {
     "data": {
      "text/html": [
       "<div>\n",
       "<style scoped>\n",
       "    .dataframe tbody tr th:only-of-type {\n",
       "        vertical-align: middle;\n",
       "    }\n",
       "\n",
       "    .dataframe tbody tr th {\n",
       "        vertical-align: top;\n",
       "    }\n",
       "\n",
       "    .dataframe thead th {\n",
       "        text-align: right;\n",
       "    }\n",
       "</style>\n",
       "<table border=\"1\" class=\"dataframe\">\n",
       "  <thead>\n",
       "    <tr style=\"text-align: right;\">\n",
       "      <th></th>\n",
       "      <th>tweet_author</th>\n",
       "      <th>tweet_text</th>\n",
       "    </tr>\n",
       "  </thead>\n",
       "  <tbody>\n",
       "    <tr>\n",
       "      <th>1374140386071961602</th>\n",
       "      <td>Hematopoiesis News</td>\n",
       "      <td>⚕️ Scientists conducted a Phase II study of ac...</td>\n",
       "    </tr>\n",
       "    <tr>\n",
       "      <th>1374032432173842437</th>\n",
       "      <td>Michael Wang, MD</td>\n",
       "      <td>This phase 2 Acalabrutinib-Venetoclax (AV) tri...</td>\n",
       "    </tr>\n",
       "    <tr>\n",
       "      <th>1373902876553048065</th>\n",
       "      <td>1stOncology</td>\n",
       "      <td>#NICE backs #AstraZenecas #Calquence for #CLL ...</td>\n",
       "    </tr>\n",
       "    <tr>\n",
       "      <th>1373656782367813635</th>\n",
       "      <td>Toby Eyre</td>\n",
       "      <td>#acalabrutinib is a valuable option in pts int...</td>\n",
       "    </tr>\n",
       "    <tr>\n",
       "      <th>1372941634334232586</th>\n",
       "      <td>Lymphoma Hub</td>\n",
       "      <td>NICE has recommended the use of acalabrutinib ...</td>\n",
       "    </tr>\n",
       "    <tr>\n",
       "      <th>...</th>\n",
       "      <td>...</td>\n",
       "      <td>...</td>\n",
       "    </tr>\n",
       "    <tr>\n",
       "      <th>551103473643945985</th>\n",
       "      <td>Joy is a Lifestyle</td>\n",
       "      <td>Hanging out with Friends! :) #FF #CLL #Happine...</td>\n",
       "    </tr>\n",
       "    <tr>\n",
       "      <th>551102786675290112</th>\n",
       "      <td>𝓒𝓻𝓲𝔃𝔃𝔂 𝓟𝓮𝓻𝓻𝔂🌹</td>\n",
       "      <td>Hanging out with Friends! :) #FF #CLL #Happine...</td>\n",
       "    </tr>\n",
       "    <tr>\n",
       "      <th>550969541186953217</th>\n",
       "      <td>IQWiG</td>\n",
       "      <td>Zusatznutzen von #Idelalisib ist weder für #CL...</td>\n",
       "    </tr>\n",
       "    <tr>\n",
       "      <th>550941480525635584</th>\n",
       "      <td>Medibooks</td>\n",
       "      <td>#Hematología PTK2 EXPRESSION AND IMMUNOCHEMOTH...</td>\n",
       "    </tr>\n",
       "    <tr>\n",
       "      <th>550579446537678849</th>\n",
       "      <td>Medibooks</td>\n",
       "      <td>#Hematología MUTATIONS IN TLR/MYD88 PATHWAY ID...</td>\n",
       "    </tr>\n",
       "  </tbody>\n",
       "</table>\n",
       "<p>43347 rows × 2 columns</p>\n",
       "</div>"
      ],
      "text/plain": [
       "                           tweet_author  \\\n",
       "1374140386071961602  Hematopoiesis News   \n",
       "1374032432173842437    Michael Wang, MD   \n",
       "1373902876553048065         1stOncology   \n",
       "1373656782367813635           Toby Eyre   \n",
       "1372941634334232586        Lymphoma Hub   \n",
       "...                                 ...   \n",
       "551103473643945985   Joy is a Lifestyle   \n",
       "551102786675290112        𝓒𝓻𝓲𝔃𝔃𝔂 𝓟𝓮𝓻𝓻𝔂🌹   \n",
       "550969541186953217                IQWiG   \n",
       "550941480525635584            Medibooks   \n",
       "550579446537678849            Medibooks   \n",
       "\n",
       "                                                            tweet_text  \n",
       "1374140386071961602  ⚕️ Scientists conducted a Phase II study of ac...  \n",
       "1374032432173842437  This phase 2 Acalabrutinib-Venetoclax (AV) tri...  \n",
       "1373902876553048065  #NICE backs #AstraZenecas #Calquence for #CLL ...  \n",
       "1373656782367813635  #acalabrutinib is a valuable option in pts int...  \n",
       "1372941634334232586  NICE has recommended the use of acalabrutinib ...  \n",
       "...                                                                ...  \n",
       "551103473643945985   Hanging out with Friends! :) #FF #CLL #Happine...  \n",
       "551102786675290112   Hanging out with Friends! :) #FF #CLL #Happine...  \n",
       "550969541186953217   Zusatznutzen von #Idelalisib ist weder für #CL...  \n",
       "550941480525635584   #Hematología PTK2 EXPRESSION AND IMMUNOCHEMOTH...  \n",
       "550579446537678849   #Hematología MUTATIONS IN TLR/MYD88 PATHWAY ID...  \n",
       "\n",
       "[43347 rows x 2 columns]"
      ]
     },
     "execution_count": 6,
     "metadata": {},
     "output_type": "execute_result"
    }
   ],
   "source": [
    "df=pd.DataFrame(d).T\n",
    "df"
   ]
  },
  {
   "cell_type": "code",
   "execution_count": 7,
   "id": "f356d7d1",
   "metadata": {},
   "outputs": [
    {
     "data": {
      "text/plain": [
       "tweet_author    0\n",
       "tweet_text      0\n",
       "dtype: int64"
      ]
     },
     "execution_count": 7,
     "metadata": {},
     "output_type": "execute_result"
    }
   ],
   "source": [
    "df.isnull().sum()"
   ]
  },
  {
   "cell_type": "code",
   "execution_count": 5,
   "id": "8a25bd44",
   "metadata": {},
   "outputs": [
    {
     "data": {
      "text/html": [
       "<div>\n",
       "<style scoped>\n",
       "    .dataframe tbody tr th:only-of-type {\n",
       "        vertical-align: middle;\n",
       "    }\n",
       "\n",
       "    .dataframe tbody tr th {\n",
       "        vertical-align: top;\n",
       "    }\n",
       "\n",
       "    .dataframe thead th {\n",
       "        text-align: right;\n",
       "    }\n",
       "</style>\n",
       "<table border=\"1\" class=\"dataframe\">\n",
       "  <thead>\n",
       "    <tr style=\"text-align: right;\">\n",
       "      <th></th>\n",
       "      <th>tweet_author</th>\n",
       "      <th>tweet_text</th>\n",
       "    </tr>\n",
       "  </thead>\n",
       "  <tbody>\n",
       "    <tr>\n",
       "      <th>1374140386071961602</th>\n",
       "      <td>hematopoiesis news</td>\n",
       "      <td>⚕️ scientists conducted a phase ii study of ac...</td>\n",
       "    </tr>\n",
       "    <tr>\n",
       "      <th>1374032432173842437</th>\n",
       "      <td>michael wang, md</td>\n",
       "      <td>this phase 2 acalabrutinib-venetoclax (av) tri...</td>\n",
       "    </tr>\n",
       "    <tr>\n",
       "      <th>1373902876553048065</th>\n",
       "      <td>1stoncology</td>\n",
       "      <td>#nice backs #astrazenecas #calquence for #cll ...</td>\n",
       "    </tr>\n",
       "    <tr>\n",
       "      <th>1373656782367813635</th>\n",
       "      <td>toby eyre</td>\n",
       "      <td>#acalabrutinib is a valuable option in pts int...</td>\n",
       "    </tr>\n",
       "    <tr>\n",
       "      <th>1372941634334232586</th>\n",
       "      <td>lymphoma hub</td>\n",
       "      <td>nice has recommended the use of acalabrutinib ...</td>\n",
       "    </tr>\n",
       "    <tr>\n",
       "      <th>...</th>\n",
       "      <td>...</td>\n",
       "      <td>...</td>\n",
       "    </tr>\n",
       "    <tr>\n",
       "      <th>551103473643945985</th>\n",
       "      <td>joy is a lifestyle</td>\n",
       "      <td>hanging out with friends! :) #ff #cll #happine...</td>\n",
       "    </tr>\n",
       "    <tr>\n",
       "      <th>551102786675290112</th>\n",
       "      <td>𝓒𝓻𝓲𝔃𝔃𝔂 𝓟𝓮𝓻𝓻𝔂🌹</td>\n",
       "      <td>hanging out with friends! :) #ff #cll #happine...</td>\n",
       "    </tr>\n",
       "    <tr>\n",
       "      <th>550969541186953217</th>\n",
       "      <td>iqwig</td>\n",
       "      <td>zusatznutzen von #idelalisib ist weder für #cl...</td>\n",
       "    </tr>\n",
       "    <tr>\n",
       "      <th>550941480525635584</th>\n",
       "      <td>medibooks</td>\n",
       "      <td>#hematología ptk2 expression and immunochemoth...</td>\n",
       "    </tr>\n",
       "    <tr>\n",
       "      <th>550579446537678849</th>\n",
       "      <td>medibooks</td>\n",
       "      <td>#hematología mutations in tlr/myd88 pathway id...</td>\n",
       "    </tr>\n",
       "  </tbody>\n",
       "</table>\n",
       "<p>43347 rows × 2 columns</p>\n",
       "</div>"
      ],
      "text/plain": [
       "                           tweet_author  \\\n",
       "1374140386071961602  hematopoiesis news   \n",
       "1374032432173842437    michael wang, md   \n",
       "1373902876553048065         1stoncology   \n",
       "1373656782367813635           toby eyre   \n",
       "1372941634334232586        lymphoma hub   \n",
       "...                                 ...   \n",
       "551103473643945985   joy is a lifestyle   \n",
       "551102786675290112        𝓒𝓻𝓲𝔃𝔃𝔂 𝓟𝓮𝓻𝓻𝔂🌹   \n",
       "550969541186953217                iqwig   \n",
       "550941480525635584            medibooks   \n",
       "550579446537678849            medibooks   \n",
       "\n",
       "                                                            tweet_text  \n",
       "1374140386071961602  ⚕️ scientists conducted a phase ii study of ac...  \n",
       "1374032432173842437  this phase 2 acalabrutinib-venetoclax (av) tri...  \n",
       "1373902876553048065  #nice backs #astrazenecas #calquence for #cll ...  \n",
       "1373656782367813635  #acalabrutinib is a valuable option in pts int...  \n",
       "1372941634334232586  nice has recommended the use of acalabrutinib ...  \n",
       "...                                                                ...  \n",
       "551103473643945985   hanging out with friends! :) #ff #cll #happine...  \n",
       "551102786675290112   hanging out with friends! :) #ff #cll #happine...  \n",
       "550969541186953217   zusatznutzen von #idelalisib ist weder für #cl...  \n",
       "550941480525635584   #hematología ptk2 expression and immunochemoth...  \n",
       "550579446537678849   #hematología mutations in tlr/myd88 pathway id...  \n",
       "\n",
       "[43347 rows x 2 columns]"
      ]
     },
     "execution_count": 5,
     "metadata": {},
     "output_type": "execute_result"
    }
   ],
   "source": [
    "df[\"tweet_text\"]=df[\"tweet_text\"].str.lower()\n",
    "df[\"tweet_author\"]=df['tweet_author'].str.lower()\n",
    "df"
   ]
  },
  {
   "cell_type": "code",
   "execution_count": 6,
   "id": "ffb928db",
   "metadata": {},
   "outputs": [],
   "source": [
    "CLEANR = re.compile('<.*?>') \n",
    "\n",
    "def cleanhtml(raw_html):\n",
    "  cleantext = re.sub(CLEANR, '', raw_html)\n",
    "  return cleantext"
   ]
  },
  {
   "cell_type": "code",
   "execution_count": 7,
   "id": "ae4ab996",
   "metadata": {},
   "outputs": [],
   "source": [
    "df[\"tweet_text\"]=df[\"tweet_text\"].apply(cleanhtml)"
   ]
  },
  {
   "cell_type": "code",
   "execution_count": 8,
   "id": "7c348ba1",
   "metadata": {},
   "outputs": [],
   "source": [
    "\n",
    "def html_tag(data):\n",
    "    data=re.sub(r'http\\S+', '', data)\n",
    "    return data"
   ]
  },
  {
   "cell_type": "code",
   "execution_count": 9,
   "id": "12ff4262",
   "metadata": {},
   "outputs": [],
   "source": [
    "df[\"tweet_text\"]=df[\"tweet_text\"].apply(html_tag)"
   ]
  },
  {
   "cell_type": "code",
   "execution_count": 10,
   "id": "d8d528b0",
   "metadata": {},
   "outputs": [],
   "source": [
    "import string\n",
    "exclude=string.punctuation\n",
    "def punch_remove(text):\n",
    "    return text.translate(str.maketrans('','',exclude))"
   ]
  },
  {
   "cell_type": "code",
   "execution_count": 11,
   "id": "6d0d59c8",
   "metadata": {},
   "outputs": [],
   "source": [
    "df[\"tweet_text\"]=df[\"tweet_text\"].apply(punch_remove)"
   ]
  },
  {
   "cell_type": "code",
   "execution_count": 3,
   "id": "036a67c4",
   "metadata": {},
   "outputs": [],
   "source": [
    "def remove_stopwords(text):\n",
    "    new_text=[]\n",
    "    \n",
    "    for word in text.split():\n",
    "        if word in stopwords.word(\"english\"):\n",
    "            new_text.append(\"\")\n",
    "        else:\n",
    "            new_text.append(word)\n",
    "            \n",
    "    x=new_text[:]\n",
    "    new_txt.clear()\n",
    "    return \" \".join(x)"
   ]
  },
  {
   "cell_type": "code",
   "execution_count": 8,
   "id": "9c00188e",
   "metadata": {},
   "outputs": [
    {
     "ename": "NameError",
     "evalue": "name 'stopwords' is not defined",
     "output_type": "error",
     "traceback": [
      "\u001b[1;31m---------------------------------------------------------------------------\u001b[0m",
      "\u001b[1;31mNameError\u001b[0m                                 Traceback (most recent call last)",
      "\u001b[1;32m~\\AppData\\Local\\Temp/ipykernel_8716/2477444612.py\u001b[0m in \u001b[0;36m<module>\u001b[1;34m\u001b[0m\n\u001b[1;32m----> 1\u001b[1;33m \u001b[0mdf\u001b[0m\u001b[1;33m[\u001b[0m\u001b[1;34m\"tweet_text\"\u001b[0m\u001b[1;33m]\u001b[0m\u001b[1;33m=\u001b[0m\u001b[0mdf\u001b[0m\u001b[1;33m[\u001b[0m\u001b[1;34m\"tweet_text\"\u001b[0m\u001b[1;33m]\u001b[0m\u001b[1;33m.\u001b[0m\u001b[0mapply\u001b[0m\u001b[1;33m(\u001b[0m\u001b[0mremove_stopwords\u001b[0m\u001b[1;33m)\u001b[0m\u001b[1;33m\u001b[0m\u001b[1;33m\u001b[0m\u001b[0m\n\u001b[0m",
      "\u001b[1;32m~\\anaconda3\\lib\\site-packages\\pandas\\core\\series.py\u001b[0m in \u001b[0;36mapply\u001b[1;34m(self, func, convert_dtype, args, **kwargs)\u001b[0m\n\u001b[0;32m   4355\u001b[0m         \u001b[0mdtype\u001b[0m\u001b[1;33m:\u001b[0m \u001b[0mfloat64\u001b[0m\u001b[1;33m\u001b[0m\u001b[1;33m\u001b[0m\u001b[0m\n\u001b[0;32m   4356\u001b[0m         \"\"\"\n\u001b[1;32m-> 4357\u001b[1;33m         \u001b[1;32mreturn\u001b[0m \u001b[0mSeriesApply\u001b[0m\u001b[1;33m(\u001b[0m\u001b[0mself\u001b[0m\u001b[1;33m,\u001b[0m \u001b[0mfunc\u001b[0m\u001b[1;33m,\u001b[0m \u001b[0mconvert_dtype\u001b[0m\u001b[1;33m,\u001b[0m \u001b[0margs\u001b[0m\u001b[1;33m,\u001b[0m \u001b[0mkwargs\u001b[0m\u001b[1;33m)\u001b[0m\u001b[1;33m.\u001b[0m\u001b[0mapply\u001b[0m\u001b[1;33m(\u001b[0m\u001b[1;33m)\u001b[0m\u001b[1;33m\u001b[0m\u001b[1;33m\u001b[0m\u001b[0m\n\u001b[0m\u001b[0;32m   4358\u001b[0m \u001b[1;33m\u001b[0m\u001b[0m\n\u001b[0;32m   4359\u001b[0m     def _reduce(\n",
      "\u001b[1;32m~\\anaconda3\\lib\\site-packages\\pandas\\core\\apply.py\u001b[0m in \u001b[0;36mapply\u001b[1;34m(self)\u001b[0m\n\u001b[0;32m   1041\u001b[0m             \u001b[1;32mreturn\u001b[0m \u001b[0mself\u001b[0m\u001b[1;33m.\u001b[0m\u001b[0mapply_str\u001b[0m\u001b[1;33m(\u001b[0m\u001b[1;33m)\u001b[0m\u001b[1;33m\u001b[0m\u001b[1;33m\u001b[0m\u001b[0m\n\u001b[0;32m   1042\u001b[0m \u001b[1;33m\u001b[0m\u001b[0m\n\u001b[1;32m-> 1043\u001b[1;33m         \u001b[1;32mreturn\u001b[0m \u001b[0mself\u001b[0m\u001b[1;33m.\u001b[0m\u001b[0mapply_standard\u001b[0m\u001b[1;33m(\u001b[0m\u001b[1;33m)\u001b[0m\u001b[1;33m\u001b[0m\u001b[1;33m\u001b[0m\u001b[0m\n\u001b[0m\u001b[0;32m   1044\u001b[0m \u001b[1;33m\u001b[0m\u001b[0m\n\u001b[0;32m   1045\u001b[0m     \u001b[1;32mdef\u001b[0m \u001b[0magg\u001b[0m\u001b[1;33m(\u001b[0m\u001b[0mself\u001b[0m\u001b[1;33m)\u001b[0m\u001b[1;33m:\u001b[0m\u001b[1;33m\u001b[0m\u001b[1;33m\u001b[0m\u001b[0m\n",
      "\u001b[1;32m~\\anaconda3\\lib\\site-packages\\pandas\\core\\apply.py\u001b[0m in \u001b[0;36mapply_standard\u001b[1;34m(self)\u001b[0m\n\u001b[0;32m   1096\u001b[0m                 \u001b[1;31m# List[Union[Callable[..., Any], str]]]]]\"; expected\u001b[0m\u001b[1;33m\u001b[0m\u001b[1;33m\u001b[0m\u001b[0m\n\u001b[0;32m   1097\u001b[0m                 \u001b[1;31m# \"Callable[[Any], Any]\"\u001b[0m\u001b[1;33m\u001b[0m\u001b[1;33m\u001b[0m\u001b[0m\n\u001b[1;32m-> 1098\u001b[1;33m                 mapped = lib.map_infer(\n\u001b[0m\u001b[0;32m   1099\u001b[0m                     \u001b[0mvalues\u001b[0m\u001b[1;33m,\u001b[0m\u001b[1;33m\u001b[0m\u001b[1;33m\u001b[0m\u001b[0m\n\u001b[0;32m   1100\u001b[0m                     \u001b[0mf\u001b[0m\u001b[1;33m,\u001b[0m  \u001b[1;31m# type: ignore[arg-type]\u001b[0m\u001b[1;33m\u001b[0m\u001b[1;33m\u001b[0m\u001b[0m\n",
      "\u001b[1;32m~\\anaconda3\\lib\\site-packages\\pandas\\_libs\\lib.pyx\u001b[0m in \u001b[0;36mpandas._libs.lib.map_infer\u001b[1;34m()\u001b[0m\n",
      "\u001b[1;32m~\\AppData\\Local\\Temp/ipykernel_8716/3197826479.py\u001b[0m in \u001b[0;36mremove_stopwords\u001b[1;34m(text)\u001b[0m\n\u001b[0;32m      3\u001b[0m \u001b[1;33m\u001b[0m\u001b[0m\n\u001b[0;32m      4\u001b[0m     \u001b[1;32mfor\u001b[0m \u001b[0mword\u001b[0m \u001b[1;32min\u001b[0m \u001b[0mtext\u001b[0m\u001b[1;33m.\u001b[0m\u001b[0msplit\u001b[0m\u001b[1;33m(\u001b[0m\u001b[1;33m)\u001b[0m\u001b[1;33m:\u001b[0m\u001b[1;33m\u001b[0m\u001b[1;33m\u001b[0m\u001b[0m\n\u001b[1;32m----> 5\u001b[1;33m         \u001b[1;32mif\u001b[0m \u001b[0mword\u001b[0m \u001b[1;32min\u001b[0m \u001b[0mstopwords\u001b[0m\u001b[1;33m.\u001b[0m\u001b[0mword\u001b[0m\u001b[1;33m(\u001b[0m\u001b[1;34m\"english\"\u001b[0m\u001b[1;33m)\u001b[0m\u001b[1;33m:\u001b[0m\u001b[1;33m\u001b[0m\u001b[1;33m\u001b[0m\u001b[0m\n\u001b[0m\u001b[0;32m      6\u001b[0m             \u001b[0mnew_text\u001b[0m\u001b[1;33m.\u001b[0m\u001b[0mappend\u001b[0m\u001b[1;33m(\u001b[0m\u001b[1;34m\"\"\u001b[0m\u001b[1;33m)\u001b[0m\u001b[1;33m\u001b[0m\u001b[1;33m\u001b[0m\u001b[0m\n\u001b[0;32m      7\u001b[0m         \u001b[1;32melse\u001b[0m\u001b[1;33m:\u001b[0m\u001b[1;33m\u001b[0m\u001b[1;33m\u001b[0m\u001b[0m\n",
      "\u001b[1;31mNameError\u001b[0m: name 'stopwords' is not defined"
     ]
    }
   ],
   "source": [
    "df[\"tweet_text\"]=df[\"tweet_text\"].apply(remove_stopwords)"
   ]
  },
  {
   "cell_type": "code",
   "execution_count": null,
   "id": "0f77c59d",
   "metadata": {},
   "outputs": [],
   "source": []
  }
 ],
 "metadata": {
  "kernelspec": {
   "display_name": "Python 3 (ipykernel)",
   "language": "python",
   "name": "python3"
  },
  "language_info": {
   "codemirror_mode": {
    "name": "ipython",
    "version": 3
   },
   "file_extension": ".py",
   "mimetype": "text/x-python",
   "name": "python",
   "nbconvert_exporter": "python",
   "pygments_lexer": "ipython3",
   "version": "3.9.7"
  }
 },
 "nbformat": 4,
 "nbformat_minor": 5
}
